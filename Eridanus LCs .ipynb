version https://git-lfs.github.com/spec/v1
oid sha256:46976da7b619911e781330f63feb9fc3b764fc32b5e1f99c6ed1b16989d7e143
size 4894708
